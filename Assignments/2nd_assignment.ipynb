{
 "cells": [
  {
   "cell_type": "markdown",
   "metadata": {},
   "source": [
    "# Learning Variables and Print Statements"
   ]
  },
  {
   "cell_type": "code",
   "execution_count": null,
   "metadata": {},
   "outputs": [
    {
     "name": "stdout",
     "output_type": "stream",
     "text": [
      "Hello, everyone! I am learning Python. 😄\n"
     ]
    }
   ],
   "source": [
    "# Task 1: Printing a Message\n",
    "\n",
    "print(\"Hello, everyone! I am learning Python. 😄\")"
   ]
  },
  {
   "cell_type": "code",
   "execution_count": null,
   "metadata": {},
   "outputs": [
    {
     "name": "stdout",
     "output_type": "stream",
     "text": [
      "My Name is:  Basit Ali Diyal\n",
      "My Age is:  31\n",
      "My favrout Animal is:  Cat\n"
     ]
    }
   ],
   "source": [
    "# Task 2: Declaring Variables and Printing Outputs\n",
    "\n",
    "name: str = \"Basit Ali Diyal\"\n",
    "age: int = 31\n",
    "fav_animal: str = \"Cat\" \n",
    "print(\"My Name is: \", name)\n",
    "print(\"My Age is: \",age)\n",
    "print(\"My favourit Animal is: \",fav_animal)"
   ]
  },
  {
   "cell_type": "code",
   "execution_count": null,
   "metadata": {},
   "outputs": [
    {
     "name": "stdout",
     "output_type": "stream",
     "text": [
      "My name is Basit Ali Diyal I am 31 Year old and my favourit animal is Cat\n"
     ]
    }
   ],
   "source": [
    "# Task 3: Combining Variables in a single Message\n",
    "\n",
    "name: str = \"Basit Ali Diyal\"\n",
    "age: int = 31\n",
    "fav_animal: str = \"Cat\" \n",
    "\n",
    "print(\"My name is\",name,\"I am\",age,\"Year old\",\"and my favourit animal is\",fav_animal)"
   ]
  },
  {
   "cell_type": "code",
   "execution_count": 18,
   "metadata": {},
   "outputs": [
    {
     "name": "stdout",
     "output_type": "stream",
     "text": [
      "My name is:  Basit ali\n",
      "My Date of Birth is:  1993\n",
      "My Birthday Cake Price was:  2499.99\n"
     ]
    }
   ],
   "source": [
    "# Task 4: Playing with Different Data Types\n",
    "\n",
    "my_name: str = \"Basit ali\"\n",
    "my_dob : int = 1993\n",
    "cake_price:float = 2499.99\n",
    "\n",
    "print(\"My name is: \",my_name)\n",
    "print(\"My Date of Birth is: \",my_dob)\n",
    "print(\"My Birthday Cake Price was: \",cake_price)\n",
    "\n",
    "\n",
    "\n",
    "\n",
    "\n"
   ]
  },
  {
   "cell_type": "code",
   "execution_count": 19,
   "metadata": {},
   "outputs": [
    {
     "name": "stdout",
     "output_type": "stream",
     "text": [
      "My favorite hobby is Gardening\n"
     ]
    }
   ],
   "source": [
    "# Task 5: Your Favorite Hobby\n",
    "\n",
    "hobby: str = \"Gardening\"\n",
    "print(\"My favorite hobby is\", hobby)"
   ]
  },
  {
   "cell_type": "code",
   "execution_count": 26,
   "metadata": {},
   "outputs": [
    {
     "name": "stdout",
     "output_type": "stream",
     "text": [
      "3\n",
      "5\n",
      "8 (a and b combined!)\n"
     ]
    }
   ],
   "source": [
    "# Extra Challenge  \n",
    "\n",
    "a: int = 3\n",
    "b: int = 5\n",
    "c: int = a + b\n",
    "\n",
    "print(a)\n",
    "print(b)\n",
    "print(c,\"(a and b combined!)\")"
   ]
  }
 ],
 "metadata": {
  "kernelspec": {
   "display_name": "base",
   "language": "python",
   "name": "python3"
  },
  "language_info": {
   "codemirror_mode": {
    "name": "ipython",
    "version": 3
   },
   "file_extension": ".py",
   "mimetype": "text/x-python",
   "name": "python",
   "nbconvert_exporter": "python",
   "pygments_lexer": "ipython3",
   "version": "3.12.7"
  }
 },
 "nbformat": 4,
 "nbformat_minor": 2
}
