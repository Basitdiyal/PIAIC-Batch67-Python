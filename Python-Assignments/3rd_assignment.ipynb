{
 "cells": [
  {
   "cell_type": "markdown",
   "metadata": {},
   "source": [
    "# Part 1: Working with Variables, Input, and Strings"
   ]
  },
  {
   "cell_type": "markdown",
   "metadata": {},
   "source": [
    "### 1. Prompt for user input\n",
    "\n",
    "* Ask the user to enter their full name and store it in a variable named full_name.\n",
    "* Print a greeting message, for example:\n",
    "* Hello, <full_name>! Welcome to the Python assignment."
   ]
  },
  {
   "cell_type": "code",
   "execution_count": 29,
   "metadata": {},
   "outputs": [
    {
     "name": "stdout",
     "output_type": "stream",
     "text": [
      "Hello, Basit Ali! Welcome to the Python assignment.\n"
     ]
    }
   ],
   "source": [
    "# Taking user input for their full name and storing it in the variable 'full_name'\n",
    "full_name: str = input(\"Enter Your Full Name: \")\n",
    "\n",
    "# Printing a greeting message using an f-string, where 'full_name' is used as a placeholder\n",
    "print(f\"Hello, {full_name}! Welcome to the Python assignment.\")"
   ]
  },
  {
   "cell_type": "markdown",
   "metadata": {},
   "source": [
    "### 2. String methods\n",
    "* Print the user’s name in all uppercase letters.\n",
    "* Print the user’s name in all lowercase letters.\n",
    "* Print the length of the user’s name (number of characters).\n",
    "* Replace all the spaces in the user’s name with hyphens (-), and print the result.\n",
    "* Bonus: Trim any leading or trailing spaces (if any) from the user’s name using strip()."
   ]
  },
  {
   "cell_type": "code",
   "execution_count": 30,
   "metadata": {},
   "outputs": [
    {
     "name": "stdout",
     "output_type": "stream",
     "text": [
      "BASIT ALI\n",
      "basit ali\n",
      "Your Name has '9' Characters.\n",
      "Basit-Ali\n",
      "Basit Ali\n"
     ]
    }
   ],
   "source": [
    "# Taking user input for their full name and storing it in the variable 'full_name'\n",
    "full_name: str = input(\"Enter Your Full Name: \")\n",
    "\n",
    "# Printing User Name in Upper Case By Using string Function 'upper()'\n",
    "print(full_name.upper())\n",
    "\n",
    "# Printing User Name in lower Case By Using string Function 'lower()'\n",
    "print(full_name.lower())\n",
    "\n",
    "# Printing Length of User's Name Characters\n",
    "print(f\"Your Name has '{len(full_name)}' Characters.\")\n",
    "\n",
    "# Printing User Name By Replacing Spaces with '-' \n",
    "print(full_name.replace(\" \",\"-\"))\n",
    "\n",
    "# Printing User Name By Removing leading or trailing Spaces     \n",
    "print(full_name.strip())\n"
   ]
  },
  {
   "cell_type": "markdown",
   "metadata": {},
   "source": [
    "### 3. Type casting and numeric operations\n",
    "* Ask the user to enter their birth year (as input). Convert that input to an integer.\n",
    "* Calculate the user’s approximate age by subtracting the birth year from the current year. Print the result in a sentence.\n",
    "* Example output:\n",
    "You are approximately 25 years old."
   ]
  },
  {
   "cell_type": "code",
   "execution_count": 32,
   "metadata": {},
   "outputs": [
    {
     "name": "stdout",
     "output_type": "stream",
     "text": [
      "You are approximately 31 Years old\n"
     ]
    }
   ],
   "source": [
    "# Taking Birth Year Using Input Statement and Converting it into Interger.\n",
    "birth_year : int = int(input(\"Enter Your Birth Year: \"))\n",
    "\n",
    "# Subtracting Birth Year from Current Year\n",
    "approx_age = 2024 - birth_year\n",
    "\n",
    "# Printing Approx. Age\n",
    "print(f\"You are approximately {approx_age} Years old\")"
   ]
  },
  {
   "cell_type": "markdown",
   "metadata": {},
   "source": [
    "# Part 2: Lists and Indexing"
   ]
  },
  {
   "cell_type": "markdown",
   "metadata": {},
   "source": [
    "### 1. Create a list from user input\n",
    "\n",
    "* Prompt the user to enter three of their favorite fruits (e.g., \"apple,banana,orange\") in one line, separated by commas *.\n",
    "* Split the string by commas to create a list called fruit_list.\n",
    "* Print the list to verify that it’s correct."
   ]
  },
  {
   "cell_type": "code",
   "execution_count": 33,
   "metadata": {},
   "outputs": [
    {
     "name": "stdout",
     "output_type": "stream",
     "text": [
      "['apple', 'orange', 'mango']\n",
      "3\n"
     ]
    }
   ],
   "source": [
    "# Taking input for favorite fruits separated by commas\n",
    "fav_fruit: str= input(\"Enter Your Three Favourit Fruits Separated by Commas: \")\n",
    "\n",
    "# Spliting the Input String By Commas\n",
    "fruit_list = fav_fruit.split(\",\")\n",
    "\n",
    "# Printing the List of Fruits\n",
    "print(fruit_list)\n",
    "\n",
    "#Printing the Length of Fav Fruits\n",
    "print(len(fruit_list)) "
   ]
  },
  {
   "cell_type": "markdown",
   "metadata": {},
   "source": [
    "### List indexing and slicing\n",
    "\n",
    "* Print the first fruit in the list.\n",
    "* Print the last fruit in the list.\n",
    "* Print the second fruit in the list using indexing (i.e., fruit_list[1]).\n",
    "* Print the slice of the list containing the first two fruits."
   ]
  },
  {
   "cell_type": "code",
   "execution_count": 34,
   "metadata": {},
   "outputs": [
    {
     "name": "stdout",
     "output_type": "stream",
     "text": [
      "apple\n",
      "mango\n",
      "orange\n",
      "['apple', 'orange']\n"
     ]
    }
   ],
   "source": [
    "# Printing the first fruit in the above list\n",
    "print(fruit_list[0])\n",
    "\n",
    "#Printing the last Fruit in the list.\n",
    "print(fruit_list[-1])\n",
    "\n",
    "# Printing the 2nd Fruit in the list.\n",
    "print(fruit_list[1])\n",
    "\n",
    "# Printing the Slice of the list containg First 2 Fruits.\n",
    "print(fruit_list[0:2])"
   ]
  },
  {
   "cell_type": "markdown",
   "metadata": {},
   "source": [
    "### List methods\n",
    "\n",
    "* Append a new fruit to the list using append(). Print the updated list.\n",
    "* Remove one fruit from the list using remove() (or pop()). Print the updated list again.\n",
    "* Print the length of the list using len()."
   ]
  },
  {
   "cell_type": "code",
   "execution_count": 35,
   "metadata": {},
   "outputs": [
    {
     "name": "stdout",
     "output_type": "stream",
     "text": [
      "['apple', 'orange', 'mango', 'grapes']\n",
      "['apple', 'orange', 'mango']\n",
      "3\n"
     ]
    }
   ],
   "source": [
    "# Adding New Fruit in the list using append Function\n",
    "fruit_list.append(\"grapes\")\n",
    "\n",
    "#Printing updated List\n",
    "print(fruit_list)\n",
    "\n",
    "# removing 'Grapes' from the list\n",
    "fruit_list.remove(\"grapes\")\n",
    "\n",
    "#printing updated list\n",
    "print(fruit_list)\n",
    "\n",
    "#printing Updated Lenghth of the String\n",
    "print(len(fruit_list))\n"
   ]
  },
  {
   "cell_type": "markdown",
   "metadata": {},
   "source": [
    "# Part 3 (Optional Challenge): Combining Concepts"
   ]
  },
  {
   "cell_type": "markdown",
   "metadata": {},
   "source": [
    "### String & List Interaction"
   ]
  },
  {
   "cell_type": "code",
   "execution_count": 89,
   "metadata": {},
   "outputs": [
    {
     "name": "stdout",
     "output_type": "stream",
     "text": [
      "['B', 'a', 's', 'i', 't', 'A', 'l', 'i']\n",
      "['B', 'a', 's']\n",
      "['A', 'l', 'i']\n"
     ]
    }
   ],
   "source": [
    "# Removing Space of User Name and converting into list\n",
    "letters_list =list(full_name.replace(\" \",\"\"))\n",
    "\n",
    "#printing List\n",
    "print(letters_list)\n",
    "\n",
    "# Printing First 3 Letters\n",
    "print(letters_list[0:3:1])\n",
    "\n",
    "# Printing Last three Letter \n",
    "print(letters_list[5:8:1])\n"
   ]
  },
  {
   "cell_type": "markdown",
   "metadata": {},
   "source": [
    "### Manipulate and Reconstruct"
   ]
  },
  {
   "cell_type": "code",
   "execution_count": 99,
   "metadata": {},
   "outputs": [
    {
     "name": "stdout",
     "output_type": "stream",
     "text": [
      "['B', 'a', 's', 'i', 't', 'A', 'l', 'i']\n",
      "BASitali\n"
     ]
    }
   ],
   "source": [
    "print(letters_list)\n",
    "print(\"\".join(letters_list[:3]).upper() + \"\".join(letters_list[3:]).lower())\n",
    "# upper_list = \"\".join(letters_list[:3]).upper()\n",
    "# lower_list = \"\".join(letters_list[3:]).lower()\n",
    "# updated_name = upper_list + lower_list\n",
    "# letters_list = \"\".join(letters_list[:3]).upper() + \"\".join(letters_list[3:]).lower()\n",
    "\n"
   ]
  },
  {
   "cell_type": "markdown",
   "metadata": {},
   "source": [
    "### 3. Simple Arithmetic on a List of Numbers"
   ]
  },
  {
   "cell_type": "code",
   "execution_count": 136,
   "metadata": {},
   "outputs": [
    {
     "name": "stdout",
     "output_type": "stream",
     "text": [
      "15\n",
      "3.0\n"
     ]
    }
   ],
   "source": [
    "# Take 5 Numbers seperated by spaces from users \n",
    "input_string = input(\"Enter 5 Numbers seperated by spaces: \")\n",
    "\n",
    "# Split the input string into a list of numbers\n",
    "number_list = input_string.split()\n",
    "\n",
    "# Convert the list of strings into a list of integers usig list comprehension\n",
    "# number_list = [int(i) for i in number_list]\n",
    "\n",
    "#Convert list of strings into list of integers by taking each index.\n",
    "number_list = [int(number_list[0]),int(number_list[1]), int(number_list[2]),int(number_list[3]),int (number_list[4])]\n",
    "\n",
    "# Print the list of numbers\n",
    "print(sum(number_list))\n",
    "\n",
    "# Print Average of List \n",
    "print(sum(number_list)/len(number_list))"
   ]
  },
  {
   "cell_type": "markdown",
   "metadata": {},
   "source": [
    "# Part 4: Additional Questions & Mini-Challenges"
   ]
  },
  {
   "cell_type": "markdown",
   "metadata": {},
   "source": [
    "### 1. Fruit List Enhancements"
   ]
  },
  {
   "cell_type": "code",
   "execution_count": 147,
   "metadata": {},
   "outputs": [
    {
     "name": "stdout",
     "output_type": "stream",
     "text": [
      "['Apple', 'Orange', 'apple', 'banana']\n",
      "Longest Fruit Name Orange\n",
      "Shortest Fruit Name: Apple\n"
     ]
    }
   ],
   "source": [
    "# List of Fruits\n",
    "fruit_list = [\"Apple\",\"Orange\",\"apple\", \"banana\"]\n",
    "\n",
    "# Taking User Consent 'yes' or ' no'\n",
    "user_consent = input(\"Do you want to sort the list alphabetically? \")\n",
    "\n",
    "# if statement to check User Consent\n",
    "if user_consent.lower()== \"yes\":\n",
    "    fruit_list.sort()\n",
    "    print(fruit_list)\n",
    "# Printing Longest Fruit From List Using Max()\n",
    "longest_fruit_name = max(fruit_list, key=len)\n",
    "print(\"Longest Fruit Name\",longest_fruit_name)\n",
    "\n",
    "#Printing Shortest Fruit from Lsit Using Min()\n",
    "shortest_fruit_name = min(fruit_list, key=len)\n",
    "print(\"Shortest Fruit Name:\", shortest_fruit_name)\n"
   ]
  },
  {
   "cell_type": "markdown",
   "metadata": {},
   "source": [
    "### 2. Searching in the Fruit List"
   ]
  },
  {
   "cell_type": "code",
   "execution_count": null,
   "metadata": {},
   "outputs": [
    {
     "name": "stdout",
     "output_type": "stream",
     "text": [
      "Fruit found at 0\n",
      "Fruit is not found\n"
     ]
    }
   ],
   "source": [
    "fruit_list = [\"apple\",\"orange\",\"cherry\"]\n",
    "fruit_name = input(\"Enter the Fruit Name: \")\n",
    "for fruit in fruit_list:\n",
    "    if fruit == fruit_name: \n",
    "        print(f\"Fruit found at {fruit_list.index(fruit)}\")\n",
    "        break\n",
    "else:\n",
    "    print(\"Fruit is not found\")\n",
    "    "
   ]
  },
  {
   "cell_type": "markdown",
   "metadata": {},
   "source": [
    "### 3. Name Palindrome Check (String Manipulation)"
   ]
  },
  {
   "cell_type": "code",
   "execution_count": 184,
   "metadata": {},
   "outputs": [
    {
     "name": "stdout",
     "output_type": "stream",
     "text": [
      "basitali\n",
      "name is not palindrome\n"
     ]
    }
   ],
   "source": [
    "full_name=full_name.replace(\" \",\"\").lower()\n",
    "print(full_name)\n",
    "if full_name == full_name[::-1]:\n",
    "    print(\"Name is a Palindrome\")\n",
    "else:\n",
    "    print(\"name is not palindrome\")\n",
    "\n"
   ]
  },
  {
   "cell_type": "markdown",
   "metadata": {},
   "source": [
    "### 4. Enhanced Number Operations"
   ]
  },
  {
   "cell_type": "code",
   "execution_count": 194,
   "metadata": {},
   "outputs": [
    {
     "name": "stdout",
     "output_type": "stream",
     "text": [
      "Maximum Number in the list is: 65\n",
      "Maximum Number in the list is: 1\n",
      "The Product of Number List is: 1820\n"
     ]
    }
   ],
   "source": [
    "number_list = [1,4,65,7]\n",
    "max_number = max(number_list)\n",
    "min_number = min(number_list)\n",
    "print(f\"Maximum Number in the list is: {max_number}\")\n",
    "print(f\"Maximum Number in the list is: {min_number}\")\n",
    "List_product = (number_list[0] * number_list[1] * number_list[2] * number_list[3])\n",
    "print(f\"The Product of Number List is: {List_product}\")\n"
   ]
  },
  {
   "cell_type": "markdown",
   "metadata": {},
   "source": [
    "# Reflection Questions"
   ]
  },
  {
   "cell_type": "markdown",
   "metadata": {},
   "source": [
    "### RQ1: Why do we need to convert user input (strings) to integers before doing numeric operations?  \n",
    "**A1**: Because `input()` function returns a string, and we cannot perform numeric operations on string values.\n",
    "\n",
    "### RQ2: Could there be any issues if the user enters a non-numeric value where a number is expected? How might you handle that?  \n",
    "**A2**: Yes, a `ValueError` will occur. We can handle it using `try-except` or by checking with `isdigit()`.\n",
    "\n",
    "### RQ3: Why might slicing and indexing be helpful when working with strings or lists?  \n",
    "**A3**: Slicing and indexing allow efficient access and manipulation of specific parts of strings or lists.\n",
    "\n",
    "### RQ4: What are the advantages or disadvantages of storing user data in multiple variables vs. storing them in a single list?  \n",
    "**A4**: Multiple variables provide clarity for small, specific data, while lists offer scalability and better organization for dynamic or bulk data.\n"
   ]
  }
 ],
 "metadata": {
  "kernelspec": {
   "display_name": "base",
   "language": "python",
   "name": "python3"
  },
  "language_info": {
   "codemirror_mode": {
    "name": "ipython",
    "version": 3
   },
   "file_extension": ".py",
   "mimetype": "text/x-python",
   "name": "python",
   "nbconvert_exporter": "python",
   "pygments_lexer": "ipython3",
   "version": "3.12.7"
  }
 },
 "nbformat": 4,
 "nbformat_minor": 2
}
