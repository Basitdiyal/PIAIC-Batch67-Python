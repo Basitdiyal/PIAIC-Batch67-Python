{
  "cells": [
    {
      "cell_type": "markdown",
      "metadata": {
        "id": "G_6QaFA9qqtH"
      },
      "source": [
        "# Python List Exercises\n",
        "* Chapter 3: Lists in Python\n"
      ]
    },
    {
      "cell_type": "markdown",
      "metadata": {
        "id": "ApeuUidUq5R-"
      },
      "source": [
        "## Exercise 3-1: Names"
      ]
    },
    {
      "cell_type": "code",
      "execution_count": 1,
      "metadata": {
        "colab": {
          "base_uri": "https://localhost:8080/"
        },
        "id": "uxXwOwCbqu_u",
        "outputId": "cbae750f-d047-4405-afa7-3ceeaac48511"
      },
      "outputs": [
        {
          "name": "stdout",
          "output_type": "stream",
          "text": [
            "0: Qamar Shahzad\n",
            "1: Usman Mubarak\n",
            "2: Amir Majeed\n",
            "3: Shahnawaz Ahmed\n",
            "4: Hammad Afzal\n"
          ]
        }
      ],
      "source": [
        "# Creating a list named \"names\" to store the names of my friends.\n",
        "names: list[str] = [\"Qamar Shahzad\", \"Usman Mubarak\", \"Amir Majeed\", \"Shahnawaz Ahmed\", \"Hammad Afzal\"]\n",
        "\n",
        "# Using a for loop to iterate through each name in the list\n",
        "# [Performing Extra Step for learning] Extracting the index and the name simultaneously using the enumerate function\n",
        "for index, name in enumerate(names):\n",
        "    print(f\"{index}: {name}\")  # Displaying the index and the corresponding name\n",
        "\n"
      ]
    },
    {
      "cell_type": "markdown",
      "metadata": {
        "id": "Q20xFz0isAre"
      },
      "source": [
        "## Exercise 3-2: Greetings"
      ]
    },
    {
      "cell_type": "code",
      "execution_count": 2,
      "metadata": {
        "colab": {
          "base_uri": "https://localhost:8080/"
        },
        "id": "-0daRl2ssCBd",
        "outputId": "a194ad4e-9126-40a7-a319-57275278ac75"
      },
      "outputs": [
        {
          "name": "stdout",
          "output_type": "stream",
          "text": [
            "Hi, 'Qamar shahzad' You are such a great person.\n",
            "Hi, 'Usman Mubarak' You are such a great person.\n",
            "Hi, 'Amir Majeed' You are such a great person.\n",
            "Hi, 'Shahnawaz Ahmed' You are such a great person.\n",
            "Hi, 'Hammad Afzal' You are such a great person.\n"
          ]
        }
      ],
      "source": [
        "# Again creating a same list named \"names\" to store the names of my friends.\n",
        "names:list[str] = [\"Qamar shahzad\", \"Usman Mubarak\", \"Amir Majeed\", \"Shahnawaz Ahmed\", \"Hammad Afzal\"]\n",
        "\n",
        "# Using a for loop to iterate through each name in the list & Printing Personalized Message\n",
        "for name in names:\n",
        "  print(f\"Hi, '{name}' You are such a great person.\")"
      ]
    },
    {
      "cell_type": "markdown",
      "metadata": {
        "id": "s129Cv65tJrv"
      },
      "source": [
        "## Exercise 3-3: Your Own List"
      ]
    },
    {
      "cell_type": "code",
      "execution_count": 3,
      "metadata": {
        "colab": {
          "base_uri": "https://localhost:8080/"
        },
        "id": "a2zeWMmjtKne",
        "outputId": "526aa852-0a6b-4fbe-c688-4c9d0e96e752"
      },
      "outputs": [
        {
          "name": "stdout",
          "output_type": "stream",
          "text": [
            "I would like to have a Tesla car.\n",
            "I would like to have a BMW car.\n",
            "I would like to have a Audi car.\n",
            "I would like to have a Mercedes car.\n"
          ]
        }
      ],
      "source": [
        "# Creating a list named \"cars\" to store the Brand names of my fav cars\n",
        "cars: list[str] = [\"Tesla\", \"BMW\", \"Audi\", \"Mercedes\"]\n",
        "\n",
        "# Using a for loop to iterate through each car in the list & Printing Personalized Message\n",
        "for car in cars:\n",
        "  print(f\"I would like to have a {car} car.\")"
      ]
    },
    {
      "cell_type": "markdown",
      "metadata": {
        "id": "73ZRBDrlvqU1"
      },
      "source": [
        "## Exercise 3-4: Guest List"
      ]
    },
    {
      "cell_type": "code",
      "execution_count": 4,
      "metadata": {
        "colab": {
          "base_uri": "https://localhost:8080/"
        },
        "id": "liDAgOwrvrKd",
        "outputId": "4bb2913f-0167-4f7e-e88a-4608afa73323"
      },
      "outputs": [
        {
          "name": "stdout",
          "output_type": "stream",
          "text": [
            "Hi, 'Qamar shahzad' I would be delighted if you could join me for dinner.\n",
            "Hi, 'Usman Mubarak' I would be delighted if you could join me for dinner.\n",
            "Hi, 'Amir Majeed' I would be delighted if you could join me for dinner.\n",
            "Hi, 'Shahnawaz Ahmed' I would be delighted if you could join me for dinner.\n",
            "Hi, 'Hammad Afzal' I would be delighted if you could join me for dinner.\n"
          ]
        }
      ],
      "source": [
        "# Creating a list named \"guests\" to store the Guest names for Dinner invitation\n",
        "guests: list[str] = [\"Qamar shahzad\", \"Usman Mubarak\", \"Amir Majeed\", \"Shahnawaz Ahmed\", \"Hammad Afzal\"]\n",
        "\n",
        "# Using a for loop to iterate through each guest name in the list & Printing Inivitation Message\n",
        "for guest in guests:\n",
        "  print(f\"Hi, '{guest}' I would be delighted if you could join me for dinner.\")"
      ]
    },
    {
      "cell_type": "markdown",
      "metadata": {
        "id": "bWgS7g93wQzG"
      },
      "source": [
        "## Exercise 3-5: Changing Guest List"
      ]
    },
    {
      "cell_type": "code",
      "execution_count": 6,
      "metadata": {
        "colab": {
          "base_uri": "https://localhost:8080/"
        },
        "id": "G-83R26rwwjd",
        "outputId": "0b05ff37-5119-46b6-9602-9de78c3dfc10"
      },
      "outputs": [
        {
          "name": "stdout",
          "output_type": "stream",
          "text": [
            "Unfortunately, Our Guest 'Ibran Ahmed' is unable to attend the dinner\n",
            "\n",
            "Hi, 'Qamar shahzad' I would be delighted if you could join me for dinner.\n",
            "Hi, 'Usman Mubarak' I would be delighted if you could join me for dinner.\n",
            "Hi, 'Ibran Ahmed' I would be delighted if you could join me for dinner.\n",
            "Hi, 'Shahnawaz Ahmed' I would be delighted if you could join me for dinner.\n",
            "Hi, 'Hammad Afzal' I would be delighted if you could join me for dinner.\n"
          ]
        }
      ],
      "source": [
        "# # *** Rewriting the above code here\n",
        "# guests: list[str] = [\"Qamar shahzad\", \"Usman Mubarak\", \"Amir Majeed\", \"Shahnawaz Ahmed\", \"Hammad Afzal\"]\n",
        "# for guest in guests:\n",
        "#   print(f\"Hi, '{guest}' I would be delighted if you could join me for dinner.\")\n",
        "# # ***\n",
        "\n",
        "# Printing the message with name of Guest who is unable to join for the Dinner.\n",
        "print(f\"Unfortunately, Our Guest '{guests[2]}' is unable to attend the dinner\\n\")\n",
        "\n",
        "# Replacing With the another Guest\n",
        "guests[2] = \"Ibran Ahmed\"\n",
        "\n",
        "# Using For loop to iterate through the Updated List of Guests and Printing Invitation Message.\n",
        "for guest in guests:\n",
        "  print(f\"Hi, '{guest}' I would be delighted if you could join me for dinner.\")\n"
      ]
    },
    {
      "cell_type": "markdown",
      "metadata": {
        "id": "6q1A6OSA19Ys"
      },
      "source": [
        "## Exercise 3-6: More Guests"
      ]
    },
    {
      "cell_type": "code",
      "execution_count": 8,
      "metadata": {
        "colab": {
          "base_uri": "https://localhost:8080/"
        },
        "id": "XCoNR9_71WDs",
        "outputId": "455273bc-73b6-4ec2-ef12-f303d425c38b"
      },
      "outputs": [
        {
          "name": "stdout",
          "output_type": "stream",
          "text": [
            "Hi, 'Qamar shahzad' I would be delighted if you could join me for dinner.\n",
            "Hi, 'Usman Mubarak' I would be delighted if you could join me for dinner.\n",
            "Hi, 'Amir Majeed' I would be delighted if you could join me for dinner.\n",
            "Hi, 'Shahnawaz Ahmed' I would be delighted if you could join me for dinner.\n",
            "Hi, 'Hammad Afzal' I would be delighted if you could join me for dinner.\n",
            "\n",
            "Unfortunately, Our Guest 'Amir Majeed' is unable to attend the dinner.\n",
            "Hi, 'Qamar shahzad' I would be delighted if you could join me for dinner.\n",
            "Hi, 'Usman Mubarak' I would be delighted if you could join me for dinner.\n",
            "Hi, 'Ibran Ahmed' I would be delighted if you could join me for dinner.\n",
            "Hi, 'Shahnawaz Ahmed' I would be delighted if you could join me for dinner.\n",
            "Hi, 'Hammad Afzal' I would be delighted if you could join me for dinner.\n",
            "\n",
            "Aha, Guys! I got a bigger Dinner Table, More Guests are invited!\n",
            "Hi, 'Ali Raza' I would be delighted if you could join me for dinner.\n",
            "Hi, 'Qamar shahzad' I would be delighted if you could join me for dinner.\n",
            "Hi, 'Usman Mubarak' I would be delighted if you could join me for dinner.\n",
            "Hi, 'Imran Ali' I would be delighted if you could join me for dinner.\n",
            "Hi, 'Ibran Ahmed' I would be delighted if you could join me for dinner.\n",
            "Hi, 'Shahnawaz Ahmed' I would be delighted if you could join me for dinner.\n",
            "Hi, 'Hammad Afzal' I would be delighted if you could join me for dinner.\n",
            "Hi, 'Fahad Ahmed' I would be delighted if you could join me for dinner.\n"
          ]
        }
      ],
      "source": [
        "# *** Rewriting the above code here...\n",
        "guests: list[str] = [\"Qamar shahzad\", \"Usman Mubarak\", \"Amir Majeed\", \"Shahnawaz Ahmed\", \"Hammad Afzal\"]\n",
        "for guest in guests:\n",
        "  print(f\"Hi, '{guest}' I would be delighted if you could join me for dinner.\")\n",
        "\n",
        "# Printing the message with name of Guest who is unable to join for the Dinner.\n",
        "print(f\"\\nUnfortunately, Our Guest '{guests[2]}' is unable to attend the dinner.\")\n",
        "\n",
        "# Replacing With the another Guest\n",
        "guests[2] = \"Ibran Ahmed\"\n",
        "\n",
        "# Using For loop to iterate through the Updated List of Guests and Printing Invitation Message.\n",
        "for guest in guests:\n",
        "  print(f\"Hi, '{guest}' I would be delighted if you could join me for dinner.\")\n",
        "# ***\n",
        "\n",
        "# printing announcement\n",
        "print(\"\\nAha, Guys! I got a bigger Dinner Table, More Guests are invited!\")\n",
        "\n",
        "guests.insert(0, \"Ali Raza\")  # Adding a Guest in the start of list\n",
        "guests.insert(3, \"Imran Ali\") # Adding a guest in the middle of list\n",
        "guests.append(\"Fahad Ahmed\")  # Appending a guest at the last of the list\n",
        "\n",
        "# Sending invitations to the updated list of guests\n",
        "for guest in guests:\n",
        "  print(f\"Hi, '{guest}' I would be delighted if you could join me for dinner.\")"
      ]
    },
    {
      "cell_type": "markdown",
      "metadata": {
        "id": "cXNGHZHz4WiO"
      },
      "source": [
        "## Exercise 3-7: Shrinking Guest List"
      ]
    },
    {
      "cell_type": "code",
      "execution_count": 9,
      "metadata": {
        "colab": {
          "base_uri": "https://localhost:8080/"
        },
        "id": "T6YzRvOc8000",
        "outputId": "a834f323-5716-48ab-e918-e7abd40e16fa"
      },
      "outputs": [
        {
          "name": "stdout",
          "output_type": "stream",
          "text": [
            "Before pop():  ['Qamar Shahzad', 'Usman Mubarak', 'Amir Majeed', 'Shahnawaz Ahmed', 'Hammad Afzal']\n",
            "Hi, Hammad Afzal, You are not invited for the dinner.\n",
            "Hi, Shahnawaz Ahmed, You are not invited for the dinner.\n",
            "Hi, Amir Majeed, You are not invited for the dinner.\n",
            "\n",
            "After pop():  ['Qamar Shahzad', 'Usman Mubarak']\n",
            "Hi, Qamar Shahzad, You are still invited for the dinner.\n",
            "Hi, Usman Mubarak, You are still invited for the dinner.\n",
            "\n",
            "Empty List: []\n"
          ]
        }
      ],
      "source": [
        "# Initial list of guests\n",
        "guests:list[str] = [\"Qamar Shahzad\", \"Usman Mubarak\", \"Amir Majeed\", \"Shahnawaz Ahmed\", \"Hammad Afzal\"]\n",
        "# Print list before removing guests\n",
        "print(\"Before pop(): \",guests)\n",
        "\n",
        "# Remove guests one by one until only two remain\n",
        "for guest in guests[:1:-1]:\n",
        "    print(f\"Hi, {guest}, You are not invited for the dinner.\")\n",
        "    guests.pop()\n",
        "print(\"\\nAfter pop(): \", guests)\n",
        "\n",
        "# Print message to the two remaining guests\n",
        "for guest in guests:\n",
        "    print(f\"Hi, {guest}, You are still invited for the dinner.\")\n",
        "\n",
        "# Remove all remaining guests from the list\n",
        "del guests[:]\n",
        "print(\"\\nEmpty List:\", guests)"
      ]
    },
    {
      "cell_type": "markdown",
      "metadata": {
        "id": "4NRhHY4RF2tk"
      },
      "source": [
        "## Exercise 3-8: Seeing the World"
      ]
    },
    {
      "cell_type": "code",
      "execution_count": 10,
      "metadata": {
        "colab": {
          "base_uri": "https://localhost:8080/"
        },
        "id": "kbwCAEm-F3zi",
        "outputId": "9375718d-8338-49b2-af02-717f33b24727"
      },
      "outputs": [
        {
          "name": "stdout",
          "output_type": "stream",
          "text": [
            "Original Order: ['KSA', 'UAE', 'Morroc', 'Qatar', 'Turkey']\n",
            "\n",
            "Alphabetical Order: ['KSA', 'Morroc', 'Qatar', 'Turkey', 'UAE']\n",
            "Original Order: ['KSA', 'UAE', 'Morroc', 'Qatar', 'Turkey']\n",
            "\n",
            "Reverse Alphabetical Order: ['UAE', 'Turkey', 'Qatar', 'Morroc', 'KSA']\n",
            "Original Order: ['KSA', 'UAE', 'Morroc', 'Qatar', 'Turkey']\n",
            "\n",
            "Reversed Order: ['Turkey', 'Qatar', 'Morroc', 'UAE', 'KSA']\n",
            "Original Order: ['KSA', 'UAE', 'Morroc', 'Qatar', 'Turkey']\n",
            "\n",
            "Alphabetical Order: ['KSA', 'Morroc', 'Qatar', 'Turkey', 'UAE']\n",
            "Reverse Alphabetical Order: ['UAE', 'Turkey', 'Qatar', 'Morroc', 'KSA']\n"
          ]
        }
      ],
      "source": [
        "# list of favorite places\n",
        "fav_places = [\"KSA\", \"UAE\", \"Morroc\", \"Qatar\", \"Turkey\"]\n",
        "print(\"Original Order:\", fav_places)\n",
        "\n",
        "# Print the list in alphabetical order\n",
        "print(\"\\nAlphabetical Order:\", sorted(fav_places))\n",
        "\n",
        "# Print the original list to show it is unchanged\n",
        "print(\"Original Order:\", fav_places)\n",
        "\n",
        "# Print the list in reverse alphabetical order\n",
        "print(\"\\nReverse Alphabetical Order:\", sorted(fav_places, reverse=True))\n",
        "\n",
        "# Print the original list again\n",
        "print(\"Original Order:\", fav_places)\n",
        "\n",
        "# Reverse the list in place (modifies the original list)\n",
        "fav_places.reverse()\n",
        "print(\"\\nReversed Order:\", fav_places)\n",
        "\n",
        "# Reverse the list again to return to the original order\n",
        "fav_places.reverse()\n",
        "print(\"Original Order:\", fav_places)\n",
        "\n",
        "# Sort the list alphabetically in place\n",
        "fav_places.sort()\n",
        "print(\"\\nAlphabetical Order:\", fav_places)\n",
        "\n",
        "# Sort the list in reverse alphabetical order in place\n",
        "fav_places.sort(reverse=True)\n",
        "print(\"Reverse Alphabetical Order:\", fav_places)\n"
      ]
    },
    {
      "cell_type": "markdown",
      "metadata": {
        "id": "hnP8HwnWKBW0"
      },
      "source": [
        "## Dinner Guest"
      ]
    },
    {
      "cell_type": "code",
      "execution_count": 11,
      "metadata": {
        "colab": {
          "base_uri": "https://localhost:8080/"
        },
        "id": "TvTFQhmdKEqj",
        "outputId": "ced6296a-606d-4b30-990e-7b0c13eea675"
      },
      "outputs": [
        {
          "name": "stdout",
          "output_type": "stream",
          "text": [
            "Total Number of Guests Coming for Dinner are:  5\n"
          ]
        }
      ],
      "source": [
        "# Creating a list named \"guests\" to store the Guest names for Dinner invitation\n",
        "guests: list[str] = [\"Qamar shahzad\", \"Usman Mubarak\", \"Amir Majeed\", \"Shahnawaz Ahmed\", \"Hammad Afzal\"]\n",
        "print(\"Total Number of Guests Coming for Dinner are: \",len(guests))"
      ]
    },
    {
      "cell_type": "markdown",
      "metadata": {
        "id": "Di9ovZqhKaxH"
      },
      "source": [
        "## Exercise 3-10: Every Function\n",
        "\n",
        "\n"
      ]
    },
    {
      "cell_type": "code",
      "execution_count": 12,
      "metadata": {
        "colab": {
          "base_uri": "https://localhost:8080/"
        },
        "id": "-lrTH_VzKbp6",
        "outputId": "51877d11-fd8b-471f-d2fd-91856fa89a5f"
      },
      "outputs": [
        {
          "name": "stdout",
          "output_type": "stream",
          "text": [
            "Original List:  ['Karachi', 'Lahore', 'Islamabad', 'Quetta', 'Peshawar']\n",
            "Appended List:  ['Karachi', 'Lahore', 'Islamabad', 'Quetta', 'Peshawar', 'Layyah']\n",
            "Sorted List:  ['Islamabad', 'Karachi', 'Lahore', 'Layyah', 'Peshawar', 'Quetta']\n",
            "Reversed List:  ['Quetta', 'Peshawar', 'Layyah', 'Lahore', 'Karachi', 'Islamabad']\n",
            "Length of the List:  6\n",
            "Index of Quetta:  0\n",
            "Removed List:  ['Quetta', 'Layyah', 'Lahore', 'Karachi', 'Islamabad']\n",
            "Inserted List:  ['Quetta', 'Layyah', 'Peshawar', 'Lahore', 'Karachi', 'Islamabad']\n",
            "Popped List:  ['Quetta', 'Layyah', 'Peshawar', 'Lahore', 'Karachi']\n",
            "Cleared List:  []\n"
          ]
        }
      ],
      "source": [
        "# Initialize list of city names\n",
        "city_names: list[str] = [\"Karachi\", \"Lahore\", \"Islamabad\", \"Quetta\", \"Peshawar\"]\n",
        "print(\"Original List: \", city_names)\n",
        "\n",
        "# Append a new city to the list\n",
        "city_names.append(\"Layyah\")\n",
        "print(\"Appended List: \", city_names)\n",
        "\n",
        "# Sort the list in alphabetical order\n",
        "city_names.sort()\n",
        "print(\"Sorted List: \", city_names)\n",
        "\n",
        "# Reverse the list\n",
        "city_names.reverse()\n",
        "print(\"Reversed List: \", city_names)\n",
        "\n",
        "# Get the length of the list\n",
        "print(\"Length of the List: \", len(city_names))\n",
        "\n",
        "# Find the index of \"Quetta\"\n",
        "print(\"Index of Quetta: \", city_names.index(\"Quetta\"))\n",
        "\n",
        "# Remove \"Peshawar\" from the list\n",
        "city_names.remove(\"Peshawar\")\n",
        "print(\"Removed List: \", city_names)\n",
        "\n",
        "# Insert \"Peshawar\" at index 2\n",
        "city_names.insert(2, \"Peshawar\")\n",
        "print(\"Inserted List: \", city_names)\n",
        "\n",
        "# Pop the last element from the list\n",
        "city_names.pop()\n",
        "print(\"Popped List: \", city_names)\n",
        "\n",
        "# Clear all elements from the list\n",
        "city_names.clear()\n",
        "print(\"Cleared List: \", city_names)"
      ]
    },
    {
      "cell_type": "markdown",
      "metadata": {
        "id": "x_2REDNdNvoi"
      },
      "source": [
        "## Exercise 3-11: Intentional Error\n"
      ]
    },
    {
      "cell_type": "code",
      "execution_count": 13,
      "metadata": {
        "colab": {
          "base_uri": "https://localhost:8080/"
        },
        "id": "rJpjZuJANxbi",
        "outputId": "eae5606c-47a3-4e94-9007-190ab8e4e04d"
      },
      "outputs": [
        {
          "name": "stdout",
          "output_type": "stream",
          "text": [
            "Original List:  ['Karachi', 'Lahore', 'Islamabad', 'Quetta', 'Peshawar']\n",
            "Index Error Removed:  Peshawar\n"
          ]
        }
      ],
      "source": [
        "# Initialize list of city names\n",
        "city_names: list[str] = [\"Karachi\", \"Lahore\", \"Islamabad\", \"Quetta\", \"Peshawar\"]\n",
        "print(\"Original List: \", city_names)\n",
        "# print(\"Index Error: \", city_names[5])\n",
        "print(\"Index Error Removed: \", city_names[4])"
      ]
    }
  ],
  "metadata": {
    "colab": {
      "provenance": []
    },
    "kernelspec": {
      "display_name": "base",
      "language": "python",
      "name": "python3"
    },
    "language_info": {
      "codemirror_mode": {
        "name": "ipython",
        "version": 3
      },
      "file_extension": ".py",
      "mimetype": "text/x-python",
      "name": "python",
      "nbconvert_exporter": "python",
      "pygments_lexer": "ipython3",
      "version": "3.12.7"
    }
  },
  "nbformat": 4,
  "nbformat_minor": 0
}
