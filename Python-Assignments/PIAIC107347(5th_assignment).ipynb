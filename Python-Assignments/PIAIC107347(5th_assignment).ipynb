{
 "cells": [
  {
   "cell_type": "markdown",
   "metadata": {
    "id": "friBvca8tfvT"
   },
   "source": [
    "# Question 1: Ticket Pricing System"
   ]
  },
  {
   "cell_type": "code",
   "execution_count": 44,
   "metadata": {
    "colab": {
     "base_uri": "https://localhost:8080/"
    },
    "executionInfo": {
     "elapsed": 44507,
     "status": "ok",
     "timestamp": 1736364338594,
     "user": {
      "displayName": "Basit Ali",
      "userId": "03005392544941692452"
     },
     "user_tz": -300
    },
    "id": "Jg6sF0JntgR2",
    "outputId": "50dce00f-f387-42e5-bfbc-dbf095045f1f"
   },
   "outputs": [
    {
     "name": "stdout",
     "output_type": "stream",
     "text": [
      "Enter your age: 5\n",
      "Ticket Price is $10\n"
     ]
    }
   ],
   "source": [
    "# Get age input from user and convert to integer\n",
    "age: int = int(input(\"Enter your age: \"))\n",
    "\n",
    "# If age is less than 5, print \"Ticket is Free\"\n",
    "if age < 5:\n",
    "    print(\"Ticket is Free\")\n",
    "\n",
    "# If age is between 5 and 17, print \"Ticket Price is $10\"\n",
    "elif age <= 17:\n",
    "    print(\"Ticket Price is $10\")\n",
    "\n",
    "# If age is between 18 and 60, print \"Ticket Price is $20\"\n",
    "elif age <= 60:\n",
    "    print(\"Ticket Price is $20\")\n",
    "\n",
    "# If age is above 60, print \"Ticket Price is $15\"\n",
    "else:\n",
    "    print(\"Ticket Price is $15\")"
   ]
  },
  {
   "cell_type": "markdown",
   "metadata": {
    "id": "0MDcGyvKuoK6"
   },
   "source": [
    "# Question 2: Meal Recommendation\n"
   ]
  },
  {
   "cell_type": "code",
   "execution_count": 46,
   "metadata": {
    "colab": {
     "base_uri": "https://localhost:8080/"
    },
    "executionInfo": {
     "elapsed": 4527,
     "status": "ok",
     "timestamp": 1736364361581,
     "user": {
      "displayName": "Basit Ali",
      "userId": "03005392544941692452"
     },
     "user_tz": -300
    },
    "id": "ukSEcq6Pzj0W",
    "outputId": "9e9c0986-e35e-4fdf-f90c-39e4a1aff40a"
   },
   "outputs": [
    {
     "name": "stdout",
     "output_type": "stream",
     "text": [
      "Enter the time in 24-Hr Format: 23\n",
      "It's time for Late-night Snack\n"
     ]
    }
   ],
   "source": [
    "# Prompt the user to enter the time\n",
    "time: int = int(input(\"Enter the time in 24-Hr Format: \"))\n",
    "\n",
    "# Validate if the entered time is within the 24-hour range\n",
    "if time < 0 or time > 24:\n",
    "    print(\"Invalid input! Please enter a time between 0 and 24.\")\n",
    "else:\n",
    "    # Check the time range and print the appropriate meal time\n",
    "    if time >= 5 and time <= 11:\n",
    "        print(\"It's time for Breakfast\")\n",
    "    elif time >= 12 and time <= 16:\n",
    "        print(\"It's time for Lunch\")\n",
    "    elif time >= 17 and time <= 21:\n",
    "        print(\"It's time for Dinner\")\n",
    "    else:\n",
    "        print(\"It's time for Late-night Snack\")\n"
   ]
  },
  {
   "cell_type": "markdown",
   "metadata": {
    "id": "33x2WP_D00ds"
   },
   "source": [
    "# Question 3: Grocery Bill Calculator"
   ]
  },
  {
   "cell_type": "code",
   "execution_count": 47,
   "metadata": {
    "colab": {
     "base_uri": "https://localhost:8080/"
    },
    "executionInfo": {
     "elapsed": 105365,
     "status": "ok",
     "timestamp": 1736364473960,
     "user": {
      "displayName": "Basit Ali",
      "userId": "03005392544941692452"
     },
     "user_tz": -300
    },
    "id": "AyuDh2XjeCJM",
    "outputId": "55bf27c6-1f93-474e-933f-e4458c867a5a"
   },
   "outputs": [
    {
     "name": "stdout",
     "output_type": "stream",
     "text": [
      "Enter the price of Grocery Item 1: 45\n",
      "Enter the price of Grocery Item 2: 45\n",
      "Enter the price of Grocery Item 3: 3\n",
      "Enter the price of Grocery Item 4: 45\n",
      "Enter the price of Grocery Item 5: 47\n",
      "[45, 45, 3, 45, 47]\n",
      "Total Bill: 185 \n",
      "Discounted Price: 166.50\n"
     ]
    }
   ],
   "source": [
    "# Initialize an empty list to store the prices\n",
    "prices = []\n",
    "\n",
    "# Loop to get the prices of 5 grocery items from the user\n",
    "for i in range(1, 6):\n",
    "    prices.append(int(input(f\"Enter the price of Grocery Item {i}: \")))\n",
    "\n",
    "# Print the list of prices\n",
    "print(prices)\n",
    "\n",
    "# Calculate the total price using sum()\n",
    "total_price = sum(prices)\n",
    "\n",
    "# Print the total bill\n",
    "print(f\"Total Bill: {total_price} \")\n",
    "\n",
    "# Check if total price is greater than 100 to apply a discount\n",
    "if total_price > 100:\n",
    "    # Calculate the discounted price (10% discount)\n",
    "    discounted_price = total_price - (total_price * 0.1)\n",
    "\n",
    "    print(f\"Discounted Price: {discounted_price:.2f}\")   # Print the discounted price\n",
    "else:\n",
    "    # Print message if no discount is applied\n",
    "    print(\"No Discount Applied\")"
   ]
  },
  {
   "cell_type": "markdown",
   "metadata": {
    "id": "AJWIMyZ5NhNZ"
   },
   "source": [
    "# Question 4: Username Validator"
   ]
  },
  {
   "cell_type": "code",
   "execution_count": null,
   "metadata": {
    "colab": {
     "base_uri": "https://localhost:8080/"
    },
    "executionInfo": {
     "elapsed": 7800,
     "status": "ok",
     "timestamp": 1736279533458,
     "user": {
      "displayName": "Basit Ali",
      "userId": "03005392544941692452"
     },
     "user_tz": -300
    },
    "id": "MFqtJhLYNib5",
    "outputId": "3f9513d4-21f9-4d8f-e1f6-0b22c0ffda17"
   },
   "outputs": [
    {
     "name": "stdout",
     "output_type": "stream",
     "text": [
      "Enter your Username: @123\n",
      "invalid Username\n"
     ]
    }
   ],
   "source": [
    "# Prompt the user to input their username\n",
    "userName: str = input(\"Enter your Username: \")\n",
    "\n",
    "# Check if the length of the username is between 5 and 15 characters\n",
    "if 5 <= len(userName) <= 15:\n",
    "    # Check if the first character of the username is a letter\n",
    "    if userName[0].isalpha():\n",
    "        print(\"valid Username\")  # Print if the username is valid\n",
    "    else:\n",
    "        print(\"Invalid Username\")  # Printing Invalid UersName\n",
    "else:\n",
    "    print(\"invalid Username\")  # Print if the username length is not between 5 and 15 characters\n"
   ]
  },
  {
   "cell_type": "markdown",
   "metadata": {
    "id": "ofFQiP0KVAhr"
   },
   "source": [
    "# Question 5: Travel Destination Suggestion\n"
   ]
  },
  {
   "cell_type": "code",
   "execution_count": null,
   "metadata": {
    "colab": {
     "base_uri": "https://localhost:8080/"
    },
    "executionInfo": {
     "elapsed": 5414,
     "status": "ok",
     "timestamp": 1736280822733,
     "user": {
      "displayName": "Basit Ali",
      "userId": "03005392544941692452"
     },
     "user_tz": -300
    },
    "id": "_biCJ50QVCog",
    "outputId": "7ffd3362-3af6-4145-80be-444ef8eb76b5"
   },
   "outputs": [
    {
     "name": "stdout",
     "output_type": "stream",
     "text": [
      "Enter the weather condition (sunny, rainy, snowy): windy\n",
      "Weather is not suitable for outing\n"
     ]
    }
   ],
   "source": [
    "# Define a dictionary weather for storing weather conditions\n",
    "weather: dict = {\"sunny\": \"Go to the beach!\", \"rainy\": \"Visit a cozy mountain lodge!\", \"snowy\": \"Time for a ski trip!\"}\n",
    "\n",
    "# Prompt the user to input a weather condition and convert it to lowercase\n",
    "weather_input: str = input(\"Enter the weather condition (sunny, rainy, snowy): \").lower()\n",
    "\n",
    "# Check if the entered weather condition is in the dictionary\n",
    "if weather_input in weather:\n",
    "    # Print the corresponding suggestion from the dictionary\n",
    "    print(weather[weather_input])\n",
    "else:\n",
    "    # Print a message if the entered weather condition is not valid\n",
    "    print(\"Weather is not suitable for outing\")\n",
    "\n"
   ]
  },
  {
   "cell_type": "markdown",
   "metadata": {
    "id": "4_abKN-rZvJi"
   },
   "source": [
    "#Question 6: Discount Eligibility Checker"
   ]
  },
  {
   "cell_type": "code",
   "execution_count": null,
   "metadata": {
    "colab": {
     "base_uri": "https://localhost:8080/"
    },
    "executionInfo": {
     "elapsed": 11025,
     "status": "ok",
     "timestamp": 1736333092523,
     "user": {
      "displayName": "Basit Ali",
      "userId": "03005392544941692452"
     },
     "user_tz": -300
    },
    "id": "dpIS_bjBZzFc",
    "outputId": "43d43491-5dc7-4d80-b890-eca155d64516"
   },
   "outputs": [
    {
     "name": "stdout",
     "output_type": "stream",
     "text": [
      "Enter the spent amount: 180\n",
      "Are you a loyalty member (yes/no): yes\n",
      "You are eligible for a discount\n"
     ]
    }
   ],
   "source": [
    "# Prompt the user to enter the amount they spent and convert it to a float\n",
    "spent_amount: float = float(input(\"Enter the spent amount: \"))\n",
    "\n",
    "# Prompt the user to input if they are a loyalty member and convert to boolean (True if 'Yes')\n",
    "loyalty_member: bool = input(\"Are you a loyalty member (Yes/No): \").capitalize() == \"Yes\"\n",
    "\n",
    "# Check if the spent amount is greater than 200 or if the user is a loyalty member\n",
    "if spent_amount > 200 or loyalty_member:\n",
    "    # Print if the user is eligible for a discount\n",
    "    print(\"You are eligible for a discount\")\n",
    "else:\n",
    "    # Print if the user is not eligible for a discount\n",
    "    print(\"You are not eligible for a discount\")\n"
   ]
  },
  {
   "cell_type": "markdown",
   "metadata": {
    "id": "MeZIZ5pShL6-"
   },
   "source": [
    "# Question 7: Event Invitation"
   ]
  },
  {
   "cell_type": "code",
   "execution_count": null,
   "metadata": {
    "colab": {
     "base_uri": "https://localhost:8080/"
    },
    "executionInfo": {
     "elapsed": 2211,
     "status": "ok",
     "timestamp": 1736340163504,
     "user": {
      "displayName": "Basit Ali",
      "userId": "03005392544941692452"
     },
     "user_tz": -300
    },
    "id": "Lz1t1CWUhOue",
    "outputId": "7f3e3cb0-56a1-487c-f812-b7875cbe813c"
   },
   "outputs": [
    {
     "name": "stdout",
     "output_type": "stream",
     "text": [
      "Enter your name: basit\n",
      "You are not invited\n"
     ]
    }
   ],
   "source": [
    "# List of invited guests\n",
    "guests = [\"Qamar\", \"Atif\", \"Hammad\", \"Kashif\", \"Usman\"]\n",
    "\n",
    "# Prompt the user to enter their name and capitalize the first letter\n",
    "userName = input(\"Enter your name: \").capitalize()\n",
    "\n",
    "# Check if the user's name is in the list of invited guests\n",
    "if userName in guests:\n",
    "    # If the name is in the guest list, print that they are invited\n",
    "    print(\"You are invited\")\n",
    "else:\n",
    "    # If the name is not in the guest list, print that they are not invited\n",
    "    print(\"You are not invited\")"
   ]
  },
  {
   "cell_type": "markdown",
   "metadata": {
    "id": "x0DIEUgk8IB5"
   },
   "source": [
    "# Question 8: Movie Streaming Eligibility"
   ]
  },
  {
   "cell_type": "code",
   "execution_count": null,
   "metadata": {
    "colab": {
     "base_uri": "https://localhost:8080/"
    },
    "executionInfo": {
     "elapsed": 135016,
     "status": "ok",
     "timestamp": 1736359282831,
     "user": {
      "displayName": "Basit Ali",
      "userId": "03005392544941692452"
     },
     "user_tz": -300
    },
    "id": "EVu3qG5G8JO4",
    "outputId": "7fb0e3cc-d650-40cf-f6bf-e60cdcc5077f"
   },
   "outputs": [
    {
     "name": "stdout",
     "output_type": "stream",
     "text": [
      "Enter your age: 30\n",
      "Enter Name of Movie Documentries/Action/Animated: animated\n",
      "You can watch animated Movie\n"
     ]
    }
   ],
   "source": [
    "# Get the user's age input\n",
    "age: int = int(input(\"Enter your age: \"))\n",
    "\n",
    "# Get the movie type input and convert to lowercase\n",
    "movie_type: str = input(\"Enter Name of Movie Documentries/Action/Animated: \").lower()\n",
    "\n",
    "# Check if the user can watch a documentary\n",
    "if age >= 12 and movie_type == \"documentaries\":\n",
    "    print(f\"You can watch {movie_type} Movie\")\n",
    "# Check if the user can watch an action movie\n",
    "elif age >= 18 and movie_type == \"action\":\n",
    "    print(f\"You can watch {movie_type} Movie\")\n",
    "# Check if the user can watch an animated movie (no age restriction)\n",
    "elif movie_type == \"animated\":\n",
    "    print(f\"You can watch {movie_type} Movie\")\n",
    "# If none of the conditions are met, the user can't watch the movie\n",
    "else:\n",
    "    print(\"You are not eligible to watch Movie\")"
   ]
  },
  {
   "cell_type": "markdown",
   "metadata": {
    "id": "s6PhlUlBFBOK"
   },
   "source": [
    "# Question 9: Phone Number Formatter"
   ]
  },
  {
   "cell_type": "code",
   "execution_count": 43,
   "metadata": {
    "colab": {
     "base_uri": "https://localhost:8080/"
    },
    "executionInfo": {
     "elapsed": 4189,
     "status": "ok",
     "timestamp": 1736364207366,
     "user": {
      "displayName": "Basit Ali",
      "userId": "03005392544941692452"
     },
     "user_tz": -300
    },
    "id": "T4ATIdtZFDtG",
    "outputId": "992e06d4-eee2-4382-abc1-50f6f31fd4e6"
   },
   "outputs": [
    {
     "name": "stdout",
     "output_type": "stream",
     "text": [
      "Enter your Phone Number: 03058482664\n",
      "(030) 584-82664\n"
     ]
    }
   ],
   "source": [
    "# Get the user's phone number input\n",
    "phone_number: str = input(\"Enter your Phone Number: \")\n",
    "\n",
    "# Check if phone number length is 11 and contains only digits\n",
    "if len(phone_number) == 11 and phone_number.isdigit():\n",
    "   # Format and print the phone number\n",
    "    print(f\"({phone_number[:3]}) {phone_number[3:6]}-{phone_number[6:]}\")\n",
    "\n",
    "else:\n",
    "     print(\"Invalid Phone Number\")\n"
   ]
  },
  {
   "cell_type": "markdown",
   "metadata": {
    "id": "3HBQu-zlHDx-"
   },
   "source": [
    "# Question 10: Package Shipping Cost\n"
   ]
  },
  {
   "cell_type": "code",
   "execution_count": null,
   "metadata": {
    "colab": {
     "base_uri": "https://localhost:8080/"
    },
    "executionInfo": {
     "elapsed": 3441,
     "status": "ok",
     "timestamp": 1736360395687,
     "user": {
      "displayName": "Basit Ali",
      "userId": "03005392544941692452"
     },
     "user_tz": -300
    },
    "id": "Vh1A5KmgHHp5",
    "outputId": "54d3e5c6-b368-4341-f546-5fa496071701"
   },
   "outputs": [
    {
     "name": "stdout",
     "output_type": "stream",
     "text": [
      "Enter the weight of the package: 45\n",
      "Shipping Cost of 45.0kg is: $50\n"
     ]
    }
   ],
   "source": [
    "# Get package weight from user\n",
    "weight: float = float(input(\"Enter the weight of the package: \"))\n",
    "\n",
    "# Check weight range and print corresponding cost\n",
    "if weight <= 1:\n",
    "  print(f\"Shipping Cost of {weight}kg is: $5\")\n",
    "elif 1 < weight <= 5:\n",
    "  print(f\"Shipping Cost of {weight}kg is: $10\")\n",
    "elif 5 < weight <= 20:\n",
    "  print(f\"Shipping Cost of {weight}kg is: $20\")\n",
    "else:\n",
    "  print(f\"Shipping Cost of {weight}kg is: $50\")"
   ]
  },
  {
   "cell_type": "markdown",
   "metadata": {
    "id": "mNlrP-CMJiGV"
   },
   "source": [
    "# Question 11: Student Grading System"
   ]
  },
  {
   "cell_type": "code",
   "execution_count": null,
   "metadata": {
    "colab": {
     "base_uri": "https://localhost:8080/"
    },
    "executionInfo": {
     "elapsed": 10819,
     "status": "ok",
     "timestamp": 1736361898008,
     "user": {
      "displayName": "Basit Ali",
      "userId": "03005392544941692452"
     },
     "user_tz": -300
    },
    "id": "-9E2oOPtJjP8",
    "outputId": "e229eb20-c6b1-4fed-9cdb-ffa98cb73724"
   },
   "outputs": [
    {
     "name": "stdout",
     "output_type": "stream",
     "text": [
      "Enter the marks of Subject 1 out of 100: 99\n",
      "Enter the marks of Subject 2 out of 100: 98\n",
      "Enter the marks of Subject 3 out of 100: 70\n",
      "Enter the marks of Subject 4 out of 100: 85\n",
      "Enter the marks of Subject 5 out of 100: 5\n",
      "\n",
      "Total Marks: 357\n",
      "Percentage:  71.40%\n",
      "Grade: C\n",
      "Result: Pass\n",
      "      \n"
     ]
    }
   ],
   "source": [
    "# Initialize an empty list for marks\n",
    "marks = []\n",
    "for i in range(1, 6):\n",
    "    # Collect marks for each subject\n",
    "    marks.append(int(input(f\"Enter the marks of Subject {i} out of 100: \")))\n",
    "\n",
    "# Calculate total marks and percentage\n",
    "total_marks = sum(marks)\n",
    "percentage = (total_marks / 500) * 100\n",
    "\n",
    "# Determine grade and result\n",
    "if percentage >= 90:\n",
    "    grade = \"A\"\n",
    "    result = \"Pass\"\n",
    "elif percentage >= 80:\n",
    "    grade = \"B\"\n",
    "    result = \"Pass\"\n",
    "elif percentage >= 70:\n",
    "    grade = \"C\"\n",
    "    result = \"Pass\"\n",
    "elif percentage >= 60:\n",
    "    grade = \"D\"\n",
    "    result = \"Pass\"\n",
    "else:\n",
    "    grade = \"F\"\n",
    "    result = \"Fail\"\n",
    "\n",
    "# Display the results\n",
    "print(f\"\"\"\n",
    "Total Marks: {total_marks}\n",
    "Percentage: {percentage:.2f}%\n",
    "Grade: {grade}\n",
    "Result: {result}\n",
    "\"\"\")"
   ]
  }
 ],
 "metadata": {
  "colab": {
   "authorship_tag": "ABX9TyPmxn7wp4/pJlHH3z9TeZUZ",
   "provenance": []
  },
  "kernelspec": {
   "display_name": "Python 3",
   "name": "python3"
  },
  "language_info": {
   "name": "python"
  }
 },
 "nbformat": 4,
 "nbformat_minor": 0
}
