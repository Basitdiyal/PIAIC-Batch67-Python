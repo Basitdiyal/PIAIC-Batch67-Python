{
 "cells": [
  {
   "cell_type": "markdown",
   "metadata": {},
   "source": [
    "# Python Madlibs Project"
   ]
  },
  {
   "cell_type": "code",
   "execution_count": 3,
   "metadata": {},
   "outputs": [
    {
     "name": "stdout",
     "output_type": "stream",
     "text": [
      "Madlibs Python Project\n",
      "\n",
      "Here is your Rabbit and Turtle Race Madlib: \n",
      "Once upon a time, there was a fast rabbit named speedy and a wise turtle named wisey.\n",
      "They decided to have a race over a distance of 100m. \n",
      "\n",
      "The race began, and speedy started running at lightning speed, leaving wisey far behind. \n",
      "But halfway through the race, speedy encountered muddy way and got distracted. Meanwhile, wisey, \n",
      "steady and determined, kept going without stopping. \n",
      "\n",
      "In the end, the winner of the race was... wisey! Everyone learned that wise perseverance \n",
      "can sometimes outshine fast speed.\n",
      "\n"
     ]
    }
   ],
   "source": [
    "print(\"Madlibs Python Project\")\n",
    "\n",
    "rabbit_name:str = input(\"Enter the name of Rabit: \")\n",
    "turtle_name:str = input(\"Enter the name of Turtle: \")\n",
    "adjective1: str = input(\"Enter the Adjective1: \")\n",
    "adjective2: str = input (\"Enter the Adjective2: \")\n",
    "race_distance: str= input(\"Enter the race distance: i.e(Meters) \")\n",
    "verb: str= input(\"Enter the Verb: \")\n",
    "obstacle: str = input(\"Enter the obstacle: \")\n",
    "winner:str = input(\"Enter the Winner Name: \")\n",
    "\n",
    "madlib = f\"\"\"\n",
    "Once upon a time, there was a {adjective1} rabbit named {rabbit_name} and a {adjective2} turtle named {turtle_name}.\n",
    "They decided to have a race over a distance of {race_distance}. \n",
    "\n",
    "The race began, and {rabbit_name} started {verb} at lightning speed, leaving {turtle_name} far behind. \n",
    "But halfway through the race, {rabbit_name} encountered {obstacle} and got distracted. Meanwhile, {turtle_name}, \n",
    "steady and determined, kept going without stopping. \n",
    "\n",
    "In the end, the winner of the race was... {winner}! Everyone learned that {adjective2} perseverance \n",
    "can sometimes outshine {adjective1} speed.\n",
    "\"\"\"\n",
    "\n",
    "# Print the completed Madlib\n",
    "print(f\"\\nHere is your Rabbit and Turtle Race Madlib: {madlib}\")"
   ]
  }
 ],
 "metadata": {
  "kernelspec": {
   "display_name": "base",
   "language": "python",
   "name": "python3"
  },
  "language_info": {
   "codemirror_mode": {
    "name": "ipython",
    "version": 3
   },
   "file_extension": ".py",
   "mimetype": "text/x-python",
   "name": "python",
   "nbconvert_exporter": "python",
   "pygments_lexer": "ipython3",
   "version": "3.12.7"
  }
 },
 "nbformat": 4,
 "nbformat_minor": 2
}
